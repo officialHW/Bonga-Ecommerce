{
 "cells": [
  {
   "cell_type": "markdown",
   "id": "b72f62ac",
   "metadata": {},
   "source": [
    "## Creating the serverless database\n",
    "\n",
    "### In other to be effectively create the sql databse that can contain the tables so that I can write queries to the database.\n",
    "\n",
    "### To achive the above, i will install 3 packages directly on here (or anaconda evironment)."
   ]
  },
  {
   "cell_type": "code",
   "execution_count": 1,
   "id": "ec4501f4",
   "metadata": {},
   "outputs": [
    {
     "name": "stdout",
     "output_type": "stream",
     "text": [
      "Requirement already satisfied: sqlalchemy in /Users/henrywilliams/anaconda3/lib/python3.11/site-packages (2.0.30)\n",
      "Requirement already satisfied: typing-extensions>=4.6.0 in /Users/henrywilliams/anaconda3/lib/python3.11/site-packages (from sqlalchemy) (4.7.1)\n",
      "Requirement already satisfied: greenlet!=0.4.17 in /Users/henrywilliams/anaconda3/lib/python3.11/site-packages (from sqlalchemy) (2.0.1)\n",
      "Requirement already satisfied: ipython-sql in /Users/henrywilliams/anaconda3/lib/python3.11/site-packages (0.5.0)\n",
      "Requirement already satisfied: prettytable in /Users/henrywilliams/anaconda3/lib/python3.11/site-packages (from ipython-sql) (3.10.0)\n",
      "Requirement already satisfied: ipython in /Users/henrywilliams/anaconda3/lib/python3.11/site-packages (from ipython-sql) (8.15.0)\n",
      "Requirement already satisfied: sqlalchemy>=2.0 in /Users/henrywilliams/anaconda3/lib/python3.11/site-packages (from ipython-sql) (2.0.30)\n",
      "Requirement already satisfied: sqlparse in /Users/henrywilliams/anaconda3/lib/python3.11/site-packages (from ipython-sql) (0.5.0)\n",
      "Requirement already satisfied: six in /Users/henrywilliams/anaconda3/lib/python3.11/site-packages (from ipython-sql) (1.16.0)\n",
      "Requirement already satisfied: ipython-genutils in /Users/henrywilliams/anaconda3/lib/python3.11/site-packages (from ipython-sql) (0.2.0)\n",
      "Requirement already satisfied: typing-extensions>=4.6.0 in /Users/henrywilliams/anaconda3/lib/python3.11/site-packages (from sqlalchemy>=2.0->ipython-sql) (4.7.1)\n",
      "Requirement already satisfied: greenlet!=0.4.17 in /Users/henrywilliams/anaconda3/lib/python3.11/site-packages (from sqlalchemy>=2.0->ipython-sql) (2.0.1)\n",
      "Requirement already satisfied: backcall in /Users/henrywilliams/anaconda3/lib/python3.11/site-packages (from ipython->ipython-sql) (0.2.0)\n",
      "Requirement already satisfied: decorator in /Users/henrywilliams/anaconda3/lib/python3.11/site-packages (from ipython->ipython-sql) (5.1.1)\n",
      "Requirement already satisfied: jedi>=0.16 in /Users/henrywilliams/anaconda3/lib/python3.11/site-packages (from ipython->ipython-sql) (0.18.1)\n",
      "Requirement already satisfied: matplotlib-inline in /Users/henrywilliams/anaconda3/lib/python3.11/site-packages (from ipython->ipython-sql) (0.1.6)\n",
      "Requirement already satisfied: pickleshare in /Users/henrywilliams/anaconda3/lib/python3.11/site-packages (from ipython->ipython-sql) (0.7.5)\n",
      "Requirement already satisfied: prompt-toolkit!=3.0.37,<3.1.0,>=3.0.30 in /Users/henrywilliams/anaconda3/lib/python3.11/site-packages (from ipython->ipython-sql) (3.0.36)\n",
      "Requirement already satisfied: pygments>=2.4.0 in /Users/henrywilliams/anaconda3/lib/python3.11/site-packages (from ipython->ipython-sql) (2.15.1)\n",
      "Requirement already satisfied: stack-data in /Users/henrywilliams/anaconda3/lib/python3.11/site-packages (from ipython->ipython-sql) (0.2.0)\n",
      "Requirement already satisfied: traitlets>=5 in /Users/henrywilliams/anaconda3/lib/python3.11/site-packages (from ipython->ipython-sql) (5.7.1)\n",
      "Requirement already satisfied: pexpect>4.3 in /Users/henrywilliams/anaconda3/lib/python3.11/site-packages (from ipython->ipython-sql) (4.8.0)\n",
      "Requirement already satisfied: appnope in /Users/henrywilliams/anaconda3/lib/python3.11/site-packages (from ipython->ipython-sql) (0.1.2)\n",
      "Requirement already satisfied: wcwidth in /Users/henrywilliams/anaconda3/lib/python3.11/site-packages (from prettytable->ipython-sql) (0.2.5)\n",
      "Requirement already satisfied: parso<0.9.0,>=0.8.0 in /Users/henrywilliams/anaconda3/lib/python3.11/site-packages (from jedi>=0.16->ipython->ipython-sql) (0.8.3)\n",
      "Requirement already satisfied: ptyprocess>=0.5 in /Users/henrywilliams/anaconda3/lib/python3.11/site-packages (from pexpect>4.3->ipython->ipython-sql) (0.7.0)\n",
      "Requirement already satisfied: executing in /Users/henrywilliams/anaconda3/lib/python3.11/site-packages (from stack-data->ipython->ipython-sql) (0.8.3)\n",
      "Requirement already satisfied: asttokens in /Users/henrywilliams/anaconda3/lib/python3.11/site-packages (from stack-data->ipython->ipython-sql) (2.0.5)\n",
      "Requirement already satisfied: pure-eval in /Users/henrywilliams/anaconda3/lib/python3.11/site-packages (from stack-data->ipython->ipython-sql) (0.2.2)\n",
      "Requirement already satisfied: pymysql in /Users/henrywilliams/anaconda3/lib/python3.11/site-packages (1.1.0)\n"
     ]
    }
   ],
   "source": [
    "# Installing required SQL magic packages\n",
    "!pip install sqlalchemy\n",
    "!pip install ipython-sql\n",
    "!pip install pymysql"
   ]
  },
  {
   "cell_type": "code",
   "execution_count": 2,
   "id": "322f8a5a",
   "metadata": {},
   "outputs": [],
   "source": [
    "# Creating a serverless design\n",
    "import sqlite3\n",
    "from sqlalchemy import create_engine\n",
    "import pandas as pd\n"
   ]
  },
  {
   "cell_type": "code",
   "execution_count": 9,
   "id": "7febf7fb",
   "metadata": {},
   "outputs": [
    {
     "name": "stdout",
     "output_type": "stream",
     "text": [
      "The sql extension is already loaded. To reload it, use:\n",
      "  %reload_ext sql\n",
      "(sqlite3.OperationalError) unrecognized token: \"#\"\n",
      "[SQL: # using this line of code to start the initialization environment]\n",
      "(Background on this error at: https://sqlalche.me/e/20/e3q8)\n"
     ]
    },
    {
     "data": {
      "text/plain": [
       "<sqlite3.Cursor at 0x12e01d140>"
      ]
     },
     "execution_count": 9,
     "metadata": {},
     "output_type": "execute_result"
    }
   ],
   "source": [
    "# Run DDL statement to create tables\n",
    "# Since i am using the SQLite serverless design, i will need to connect to the sqlite database (it will be created if it doesnt exist)\n",
    "\n",
    "%load_ext sql\n",
    "\n",
    "engine =  create_engine(\"sqlite:///bonga_ecommerce.db\") # using this line of code I will be creating the engine that I will use to create the database file \n",
    "%config SQL.conn_name = 'engine' # now i will configure the database file(the engine) using this line of code\n",
    "\n",
    "conn= sqlite3.connect(\"bonga_ecommerce.db\") # using this line of code to connect to the database file after setting it up\n",
    "cursor = conn.cursor()\n",
    "\n",
    "# load the database\n",
    "%sql sqlite:///bonga_ecommerce.db  # using this line of code to start the initialization environment\n",
    "    \n",
    "# Create tables (Data Definition Language - DDL)\n",
    "cursor.execute(\"\"\"\n",
    "CREATE TABLE IF NOT EXISTS products (\n",
    "    product_id INT PRIMARY KEY,\n",
    "    name TEXT NOT NULL,\n",
    "    price DECIMAL NOT NULL,\n",
    "    category TEXT NOT NULL\n",
    ")\n",
    "\"\"\")\n",
    "\n",
    "cursor.execute(\"\"\"\n",
    "CREATE TABLE IF NOT EXISTS customers (\n",
    "    customer_id INT PRIMARY KEY,\n",
    "    name TEXT NOT NULL,\n",
    "    email TEXT UUIN NOT NULL\n",
    ")\n",
    "\"\"\")\n",
    "\n",
    "cursor.execute(\"\"\"\n",
    "CREATE TABLE IF NOT EXISTS orders (\n",
    "    order_id INT PRIMARY KEY,\n",
    "    customer_id INT NOT NULL,\n",
    "    FOREIGN KEY (customer_id) REFERENCES customers(customer_id)\n",
    ")\n",
    "\"\"\")\n",
    "\n",
    "cursor.execute(\"\"\"\n",
    "CREATE TABLE IF NOT EXISTS orderitems (\n",
    "    order_item_id INT PRIMARY KEY,\n",
    "    order_id INT,\n",
    "    product_id INT,\n",
    "    quantity TEXT NOT NULL,\n",
    "    FOREIGN KEY (order_id) REFERENCES orders(order_id),\n",
    "    FOREIGN KEY (product_id) REFERENCES products(product_id)\n",
    ")\n",
    "\"\"\")"
   ]
  },
  {
   "cell_type": "code",
   "execution_count": 10,
   "id": "610dcea5",
   "metadata": {},
   "outputs": [
    {
     "name": "stdout",
     "output_type": "stream",
     "text": [
      " * sqlite:///bonga_ecommerce.db\n",
      "Done.\n"
     ]
    },
    {
     "data": {
      "text/html": [
       "<table>\n",
       "    <thead>\n",
       "        <tr>\n",
       "            <th>name</th>\n",
       "        </tr>\n",
       "    </thead>\n",
       "    <tbody>\n",
       "        <tr>\n",
       "            <td>customers</td>\n",
       "        </tr>\n",
       "        <tr>\n",
       "            <td>orderitems</td>\n",
       "        </tr>\n",
       "        <tr>\n",
       "            <td>orders</td>\n",
       "        </tr>\n",
       "        <tr>\n",
       "            <td>products</td>\n",
       "        </tr>\n",
       "    </tbody>\n",
       "</table>"
      ],
      "text/plain": [
       "[('customers',), ('orderitems',), ('orders',), ('products',)]"
      ]
     },
     "execution_count": 10,
     "metadata": {},
     "output_type": "execute_result"
    }
   ],
   "source": [
    "#converting the python cell to sql so i can run sql codes, confirming to see the tables have been created\n",
    "%%sql\n",
    "SELECT name FROM sqlite_master WHERE type in ('table', 'view') AND name NOT LIKE 'sqlite_%' ORDER BY 1"
   ]
  },
  {
   "cell_type": "code",
   "execution_count": 13,
   "id": "cc51dff3",
   "metadata": {},
   "outputs": [],
   "source": [
    "\n",
    "# loading data into their respective tables using the below function\n",
    "def load_data_to_table(csv_path, table_name):\n",
    "    df = pd.read_csv(csv_path) # this line reads the file\n",
    "    df.to_sql(table_name, conn, if_exists='append', index=False) # converting the file to an sql file and store it inside the table name and call the connection if exit\n",
    "    "
   ]
  },
  {
   "cell_type": "code",
   "execution_count": 14,
   "id": "cc474607",
   "metadata": {},
   "outputs": [],
   "source": [
    "# loading the products data into the respective database tables\n",
    "load_data_to_table('DATA SETS/products.csv', 'products')\n"
   ]
  },
  {
   "cell_type": "code",
   "execution_count": 15,
   "id": "84c252b1",
   "metadata": {},
   "outputs": [],
   "source": [
    "load_data_to_table('DATA SETS/customers.csv', 'customers')\n"
   ]
  },
  {
   "cell_type": "code",
   "execution_count": 20,
   "id": "3eeac76e",
   "metadata": {},
   "outputs": [],
   "source": [
    "\n",
    "load_data_to_table('DATA SETS/order_items.csv', 'orderitems')\n"
   ]
  },
  {
   "cell_type": "code",
   "execution_count": null,
   "id": "d67d65b6",
   "metadata": {},
   "outputs": [],
   "source": [
    "load_data_to_table('DATA SETS/orders.csv', 'orders')"
   ]
  },
  {
   "cell_type": "code",
   "execution_count": null,
   "id": "458232c7",
   "metadata": {},
   "outputs": [],
   "source": [
    "%%sql\n",
    "SELECT name FROM sqlite_master WHERE type in ('table', 'view') AND name NOT LIKE 'sqlite_%' ORDER BY 1"
   ]
  },
  {
   "cell_type": "code",
   "execution_count": null,
   "id": "4c3892dc",
   "metadata": {},
   "outputs": [],
   "source": [
    "DATA SETS/customers.csv"
   ]
  }
 ],
 "metadata": {
  "kernelspec": {
   "display_name": "Python 3 (ipykernel)",
   "language": "python",
   "name": "python3"
  },
  "language_info": {
   "codemirror_mode": {
    "name": "ipython",
    "version": 3
   },
   "file_extension": ".py",
   "mimetype": "text/x-python",
   "name": "python",
   "nbconvert_exporter": "python",
   "pygments_lexer": "ipython3",
   "version": "3.11.5"
  }
 },
 "nbformat": 4,
 "nbformat_minor": 5
}
